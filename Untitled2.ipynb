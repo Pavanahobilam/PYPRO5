{
  "nbformat": 4,
  "nbformat_minor": 0,
  "metadata": {
    "colab": {
      "provenance": []
    },
    "kernelspec": {
      "name": "python3",
      "display_name": "Python 3"
    },
    "language_info": {
      "name": "python"
    }
  },
  "cells": [
    {
      "cell_type": "code",
      "source": [
        "!pip install scikit-surprise\n"
      ],
      "metadata": {
        "colab": {
          "base_uri": "https://localhost:8080/"
        },
        "id": "xr_hhgySDyVI",
        "outputId": "9329f398-9064-4def-91f1-43b2c4bc6d2e"
      },
      "execution_count": 19,
      "outputs": [
        {
          "output_type": "stream",
          "name": "stdout",
          "text": [
            "Collecting scikit-surprise\n",
            "  Downloading scikit_surprise-1.1.4.tar.gz (154 kB)\n",
            "\u001b[?25l     \u001b[90m━━━━━━━━━━━━━━━━━━━━━━━━━━━━━━━━━━━━━━━━\u001b[0m \u001b[32m0.0/154.4 kB\u001b[0m \u001b[31m?\u001b[0m eta \u001b[36m-:--:--\u001b[0m\r\u001b[2K     \u001b[91m━━━━━━━━━━━━━━━━━━━━━━━━━━━━━━━━━━━━━━━\u001b[0m\u001b[91m╸\u001b[0m \u001b[32m153.6/154.4 kB\u001b[0m \u001b[31m5.8 MB/s\u001b[0m eta \u001b[36m0:00:01\u001b[0m\r\u001b[2K     \u001b[90m━━━━━━━━━━━━━━━━━━━━━━━━━━━━━━━━━━━━━━━━\u001b[0m \u001b[32m154.4/154.4 kB\u001b[0m \u001b[31m3.9 MB/s\u001b[0m eta \u001b[36m0:00:00\u001b[0m\n",
            "\u001b[?25h  Installing build dependencies ... \u001b[?25l\u001b[?25hdone\n",
            "  Getting requirements to build wheel ... \u001b[?25l\u001b[?25hdone\n",
            "  Preparing metadata (pyproject.toml) ... \u001b[?25l\u001b[?25hdone\n",
            "Requirement already satisfied: joblib>=1.2.0 in /usr/local/lib/python3.10/dist-packages (from scikit-surprise) (1.4.2)\n",
            "Requirement already satisfied: numpy>=1.19.5 in /usr/local/lib/python3.10/dist-packages (from scikit-surprise) (1.26.4)\n",
            "Requirement already satisfied: scipy>=1.6.0 in /usr/local/lib/python3.10/dist-packages (from scikit-surprise) (1.13.1)\n",
            "Building wheels for collected packages: scikit-surprise\n",
            "  Building wheel for scikit-surprise (pyproject.toml) ... \u001b[?25l\u001b[?25hdone\n",
            "  Created wheel for scikit-surprise: filename=scikit_surprise-1.1.4-cp310-cp310-linux_x86_64.whl size=2357278 sha256=417c3f0aac9af66f459e336bf998f7b533e1123bef1cf37a4bd8b79c47fef918\n",
            "  Stored in directory: /root/.cache/pip/wheels/4b/3f/df/6acbf0a40397d9bf3ff97f582cc22fb9ce66adde75bc71fd54\n",
            "Successfully built scikit-surprise\n",
            "Installing collected packages: scikit-surprise\n",
            "Successfully installed scikit-surprise-1.1.4\n"
          ]
        }
      ]
    },
    {
      "cell_type": "code",
      "source": [
        "import pandas as pd\n",
        "from sklearn.model_selection import train_test_split\n",
        "from sklearn.feature_extraction.text import TfidfVectorizer\n",
        "from sklearn.metrics.pairwise import cosine_similarity\n",
        "\n",
        "# Load the dataset\n",
        "try:\n",
        "    movies_df = pd.read_csv(\"/content/netflix_titles_nov_2019.csv\")\n",
        "except Exception as e:\n",
        "    print(\"An error occurred while loading the dataset: \", str(e))\n",
        "\n",
        "# Check the columns of the dataset\n",
        "print(movies_df.columns)\n",
        "\n",
        "# Extract useful features\n",
        "def preprocess_data(df):\n",
        "    # One-hot encode genres\n",
        "    genre_cols = pd.get_dummies(df[\"listed_in\"], drop_first=True)\n",
        "\n",
        "    # Extract release year\n",
        "    df[\"release_year\"] = pd.to_datetime(df[\"release_year\"], errors='coerce').dt.year\n",
        "\n",
        "    # Combine features into a matrix\n",
        "    feature_matrix = pd.concat([df[[\"release_year\"]], genre_cols], axis=1).fillna(0)\n",
        "    return feature_matrix\n",
        "\n",
        "# Preprocess the dataset\n",
        "feature_matrix = preprocess_data(movies_df)\n",
        "\n",
        "# Function to recommend similar movies\n",
        "def recommend_movies(movie_id, num_recs=10):\n",
        "    # Get the movie's feature vector\n",
        "    movie_features = feature_matrix.iloc[movie_id].values.reshape(1, -1)\n",
        "\n",
        "    # Calculate cosine similarity between the selected movie and all others\n",
        "    similarities = cosine_similarity(movie_features, feature_matrix.values).flatten()\n",
        "\n",
        "    # Get indices of most similar movies, excluding the input movie itself\n",
        "    similar_movies = similarities.argsort()[-(num_recs + 1):-1][::-1]\n",
        "\n",
        "    # Return the top recommendations\n",
        "    return movies_df.iloc[similar_movies][[\"title\", \"release_year\", \"listed_in\"]]\n",
        "\n",
        "# Example: Recommend movies for the first movie in the dataset\n",
        "movie_id = 0  # Replace with any movie ID\n",
        "recommendations = recommend_movies(movie_id, num_recs=10)\n",
        "\n",
        "# Display recommendations\n",
        "print(\"Recommended Movies:\")\n",
        "print(recommendations)\n"
      ],
      "metadata": {
        "colab": {
          "base_uri": "https://localhost:8080/"
        },
        "id": "325rdktDEbVs",
        "outputId": "2286881a-a433-4a33-fd81-53af5996242b"
      },
      "execution_count": 21,
      "outputs": [
        {
          "output_type": "stream",
          "name": "stdout",
          "text": [
            "Index(['show_id', 'title', 'director', 'cast', 'country', 'date_added',\n",
            "       'release_year', 'rating', 'duration', 'listed_in', 'description',\n",
            "       'type'],\n",
            "      dtype='object')\n",
            "Recommended Movies:\n",
            "                               title  release_year  \\\n",
            "1724                A Korean Odyssey          1970   \n",
            "5226                       My Runway          1970   \n",
            "382                       Second 20s          1970   \n",
            "3267           Something in the Rain          1970   \n",
            "378                  Another Miss Oh          1970   \n",
            "4823     What in the World Happened?          1970   \n",
            "1901         Romance is a bonus book          1970   \n",
            "5016                   One More Time          1970   \n",
            "5103                           Spark          1970   \n",
            "899   Rookie Historian Goo Hae-Ryung          1970   \n",
            "\n",
            "                                              listed_in  \n",
            "1724  International TV Shows, Korean TV Shows, Roman...  \n",
            "5226  International TV Shows, Korean TV Shows, Roman...  \n",
            "382   International TV Shows, Korean TV Shows, Roman...  \n",
            "3267  International TV Shows, Korean TV Shows, Roman...  \n",
            "378   International TV Shows, Korean TV Shows, Roman...  \n",
            "4823  International TV Shows, Korean TV Shows, Roman...  \n",
            "1901  International TV Shows, Korean TV Shows, Roman...  \n",
            "5016  International TV Shows, Korean TV Shows, Roman...  \n",
            "5103  International TV Shows, Korean TV Shows, Roman...  \n",
            "899   International TV Shows, Korean TV Shows, Roman...  \n"
          ]
        }
      ]
    }
  ]
}